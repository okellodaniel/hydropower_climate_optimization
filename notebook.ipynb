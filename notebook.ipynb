{
 "cells": [
  {
   "cell_type": "code",
   "execution_count": 1,
   "id": "852db2eb-cdff-4467-873c-fecdc886473e",
   "metadata": {},
   "outputs": [
    {
     "name": "stderr",
     "output_type": "stream",
     "text": [
      "/home/rogue-one/.local/lib/python3.12/site-packages/tqdm/auto.py:21: TqdmWarning: IProgress not found. Please update jupyter and ipywidgets. See https://ipywidgets.readthedocs.io/en/stable/user_install.html\n",
      "  from .autonotebook import tqdm as notebook_tqdm\n"
     ]
    }
   ],
   "source": [
    "import pandas as pd\n",
    "import numpy as np\n",
    "import matplotlib.pyplot as plt\n",
    "\n",
    "from sklearn.preprocessing import StandardScaler\n",
    "from sklearn.model_selection import TimeSeriesSplit\n",
    "from sklearn.ensemble import RandomForestRegressor\n",
    "from sklearn.model_selection import train_test_split \n",
    "from sklearn.metrics import mean_absolute_error\n",
    "from sklearn.feature_extraction import DictVectorizer\n",
    "from prophet import Prophet\n",
    "import xgboost as xgb\n",
    "import seaborn as sns\n",
    "from datetime import datetime, timedelta\n",
    "from statsmodels.tsa.statespace.sarimax import SARIMAX "
   ]
  },
  {
   "cell_type": "markdown",
   "id": "8ddb0b08-7039-4d06-a574-dde364a0bc1e",
   "metadata": {},
   "source": [
    "# Prepare Dataset"
   ]
  },
  {
   "cell_type": "code",
   "execution_count": 2,
   "id": "d214ede7-0065-4fca-97a9-b75dcc6a49be",
   "metadata": {},
   "outputs": [],
   "source": [
    "data_df = pd.read_csv('Data.csv',sep=',')"
   ]
  },
  {
   "cell_type": "code",
   "execution_count": 3,
   "id": "0425fa13-d1fa-4d72-a5f3-00eaaf22c26f",
   "metadata": {},
   "outputs": [],
   "source": [
    "df = data_df.sample(1000000).reset_index()"
   ]
  },
  {
   "cell_type": "code",
   "execution_count": 4,
   "id": "14cf3f52-88da-45c8-9379-88aca16374d7",
   "metadata": {},
   "outputs": [
    {
     "name": "stdout",
     "output_type": "stream",
     "text": [
      "<class 'pandas.core.frame.DataFrame'>\n",
      "RangeIndex: 1000000 entries, 0 to 999999\n",
      "Data columns (total 11 columns):\n",
      " #   Column             Non-Null Count    Dtype  \n",
      "---  ------             --------------    -----  \n",
      " 0   index              1000000 non-null  int64  \n",
      " 1   date_time          1000000 non-null  object \n",
      " 2   v_red              353131 non-null   float64\n",
      " 3   current            1000000 non-null  float64\n",
      " 4   power_factor       1000000 non-null  float64\n",
      " 5   kwh                1000000 non-null  float64\n",
      " 6   Source             1000000 non-null  object \n",
      " 7   v_blue             313244 non-null   float64\n",
      " 8   v_yellow           333625 non-null   float64\n",
      " 9   consumer_device_9  1000000 non-null  int64  \n",
      " 10  consumer_device_x  1000000 non-null  int64  \n",
      "dtypes: float64(6), int64(3), object(2)\n",
      "memory usage: 83.9+ MB\n"
     ]
    }
   ],
   "source": [
    "df.info()"
   ]
  },
  {
   "cell_type": "code",
   "execution_count": 5,
   "id": "38c24b69-6e8b-4d6a-bfb8-627fdd42d55d",
   "metadata": {},
   "outputs": [
    {
     "data": {
      "text/html": [
       "<div>\n",
       "<style scoped>\n",
       "    .dataframe tbody tr th:only-of-type {\n",
       "        vertical-align: middle;\n",
       "    }\n",
       "\n",
       "    .dataframe tbody tr th {\n",
       "        vertical-align: top;\n",
       "    }\n",
       "\n",
       "    .dataframe thead th {\n",
       "        text-align: right;\n",
       "    }\n",
       "</style>\n",
       "<table border=\"1\" class=\"dataframe\">\n",
       "  <thead>\n",
       "    <tr style=\"text-align: right;\">\n",
       "      <th></th>\n",
       "      <th>Date Time</th>\n",
       "      <th>Temperature (°C)</th>\n",
       "      <th>Dewpoint Temperature (°C)</th>\n",
       "      <th>U Wind Component (m/s)</th>\n",
       "      <th>V Wind Component (m/s)</th>\n",
       "      <th>Total Precipitation (mm)</th>\n",
       "      <th>Snowfall (mm)</th>\n",
       "      <th>Snow Cover (%)</th>\n",
       "    </tr>\n",
       "  </thead>\n",
       "  <tbody>\n",
       "    <tr>\n",
       "      <th>0</th>\n",
       "      <td>2023-06-03 13:00:00</td>\n",
       "      <td>7.199731</td>\n",
       "      <td>-2.448126</td>\n",
       "      <td>-0.034195</td>\n",
       "      <td>0.060989</td>\n",
       "      <td>0.000377</td>\n",
       "      <td>0.000000</td>\n",
       "      <td>99.972656</td>\n",
       "    </tr>\n",
       "    <tr>\n",
       "      <th>1</th>\n",
       "      <td>2023-06-03 14:00:00</td>\n",
       "      <td>6.000620</td>\n",
       "      <td>-2.597540</td>\n",
       "      <td>-0.080688</td>\n",
       "      <td>0.018585</td>\n",
       "      <td>0.000398</td>\n",
       "      <td>0.000000</td>\n",
       "      <td>99.972656</td>\n",
       "    </tr>\n",
       "    <tr>\n",
       "      <th>2</th>\n",
       "      <td>2023-06-03 15:00:00</td>\n",
       "      <td>4.789972</td>\n",
       "      <td>-2.696951</td>\n",
       "      <td>0.057449</td>\n",
       "      <td>-0.352020</td>\n",
       "      <td>0.000418</td>\n",
       "      <td>0.000000</td>\n",
       "      <td>99.972656</td>\n",
       "    </tr>\n",
       "    <tr>\n",
       "      <th>3</th>\n",
       "      <td>2023-06-03 16:00:00</td>\n",
       "      <td>3.158746</td>\n",
       "      <td>-2.879324</td>\n",
       "      <td>0.051529</td>\n",
       "      <td>-0.608948</td>\n",
       "      <td>0.000420</td>\n",
       "      <td>0.000000</td>\n",
       "      <td>99.972656</td>\n",
       "    </tr>\n",
       "    <tr>\n",
       "      <th>4</th>\n",
       "      <td>2023-06-03 17:00:00</td>\n",
       "      <td>1.671426</td>\n",
       "      <td>-3.255606</td>\n",
       "      <td>0.056137</td>\n",
       "      <td>-0.739838</td>\n",
       "      <td>0.000420</td>\n",
       "      <td>0.000000</td>\n",
       "      <td>99.972656</td>\n",
       "    </tr>\n",
       "    <tr>\n",
       "      <th>...</th>\n",
       "      <td>...</td>\n",
       "      <td>...</td>\n",
       "      <td>...</td>\n",
       "      <td>...</td>\n",
       "      <td>...</td>\n",
       "      <td>...</td>\n",
       "      <td>...</td>\n",
       "      <td>...</td>\n",
       "    </tr>\n",
       "    <tr>\n",
       "      <th>12223</th>\n",
       "      <td>2024-10-24 20:00:00</td>\n",
       "      <td>-5.387305</td>\n",
       "      <td>-5.942435</td>\n",
       "      <td>0.045059</td>\n",
       "      <td>-1.108795</td>\n",
       "      <td>0.000394</td>\n",
       "      <td>0.000129</td>\n",
       "      <td>7.855469</td>\n",
       "    </tr>\n",
       "    <tr>\n",
       "      <th>12224</th>\n",
       "      <td>2024-10-24 21:00:00</td>\n",
       "      <td>-6.008307</td>\n",
       "      <td>-6.837256</td>\n",
       "      <td>0.015198</td>\n",
       "      <td>-1.194077</td>\n",
       "      <td>0.000395</td>\n",
       "      <td>0.000129</td>\n",
       "      <td>7.859375</td>\n",
       "    </tr>\n",
       "    <tr>\n",
       "      <th>12225</th>\n",
       "      <td>2024-10-24 22:00:00</td>\n",
       "      <td>-6.535742</td>\n",
       "      <td>-7.863989</td>\n",
       "      <td>-0.028015</td>\n",
       "      <td>-1.230438</td>\n",
       "      <td>0.000397</td>\n",
       "      <td>0.000129</td>\n",
       "      <td>7.863281</td>\n",
       "    </tr>\n",
       "    <tr>\n",
       "      <th>12226</th>\n",
       "      <td>2024-10-24 23:00:00</td>\n",
       "      <td>-6.864859</td>\n",
       "      <td>-8.328970</td>\n",
       "      <td>-0.058334</td>\n",
       "      <td>-1.272537</td>\n",
       "      <td>0.000399</td>\n",
       "      <td>0.000130</td>\n",
       "      <td>7.871094</td>\n",
       "    </tr>\n",
       "    <tr>\n",
       "      <th>12227</th>\n",
       "      <td>2024-10-25 00:00:00</td>\n",
       "      <td>-7.224661</td>\n",
       "      <td>-8.735220</td>\n",
       "      <td>-0.076797</td>\n",
       "      <td>-1.251801</td>\n",
       "      <td>0.000399</td>\n",
       "      <td>0.000131</td>\n",
       "      <td>7.875000</td>\n",
       "    </tr>\n",
       "  </tbody>\n",
       "</table>\n",
       "<p>12228 rows × 8 columns</p>\n",
       "</div>"
      ],
      "text/plain": [
       "                Date Time  Temperature (°C)  Dewpoint Temperature (°C)  \\\n",
       "0     2023-06-03 13:00:00          7.199731                  -2.448126   \n",
       "1     2023-06-03 14:00:00          6.000620                  -2.597540   \n",
       "2     2023-06-03 15:00:00          4.789972                  -2.696951   \n",
       "3     2023-06-03 16:00:00          3.158746                  -2.879324   \n",
       "4     2023-06-03 17:00:00          1.671426                  -3.255606   \n",
       "...                   ...               ...                        ...   \n",
       "12223 2024-10-24 20:00:00         -5.387305                  -5.942435   \n",
       "12224 2024-10-24 21:00:00         -6.008307                  -6.837256   \n",
       "12225 2024-10-24 22:00:00         -6.535742                  -7.863989   \n",
       "12226 2024-10-24 23:00:00         -6.864859                  -8.328970   \n",
       "12227 2024-10-25 00:00:00         -7.224661                  -8.735220   \n",
       "\n",
       "       U Wind Component (m/s)  V Wind Component (m/s)  \\\n",
       "0                   -0.034195                0.060989   \n",
       "1                   -0.080688                0.018585   \n",
       "2                    0.057449               -0.352020   \n",
       "3                    0.051529               -0.608948   \n",
       "4                    0.056137               -0.739838   \n",
       "...                       ...                     ...   \n",
       "12223                0.045059               -1.108795   \n",
       "12224                0.015198               -1.194077   \n",
       "12225               -0.028015               -1.230438   \n",
       "12226               -0.058334               -1.272537   \n",
       "12227               -0.076797               -1.251801   \n",
       "\n",
       "       Total Precipitation (mm)  Snowfall (mm)  Snow Cover (%)  \n",
       "0                      0.000377       0.000000       99.972656  \n",
       "1                      0.000398       0.000000       99.972656  \n",
       "2                      0.000418       0.000000       99.972656  \n",
       "3                      0.000420       0.000000       99.972656  \n",
       "4                      0.000420       0.000000       99.972656  \n",
       "...                         ...            ...             ...  \n",
       "12223                  0.000394       0.000129        7.855469  \n",
       "12224                  0.000395       0.000129        7.859375  \n",
       "12225                  0.000397       0.000129        7.863281  \n",
       "12226                  0.000399       0.000130        7.871094  \n",
       "12227                  0.000399       0.000131        7.875000  \n",
       "\n",
       "[12228 rows x 8 columns]"
      ]
     },
     "execution_count": 5,
     "metadata": {},
     "output_type": "execute_result"
    }
   ],
   "source": [
    "df_climate = pd.read_excel('climate_data/Kalam Climate Data.xlsx')\n",
    "df_climate"
   ]
  },
  {
   "cell_type": "code",
   "execution_count": 6,
   "id": "517fbbec-18ff-4675-8572-1948bf7b172a",
   "metadata": {},
   "outputs": [
    {
     "name": "stdout",
     "output_type": "stream",
     "text": [
      "<class 'pandas.core.frame.DataFrame'>\n",
      "RangeIndex: 12228 entries, 0 to 12227\n",
      "Data columns (total 8 columns):\n",
      " #   Column                     Non-Null Count  Dtype         \n",
      "---  ------                     --------------  -----         \n",
      " 0   Date Time                  12228 non-null  datetime64[ns]\n",
      " 1   Temperature (°C)           12228 non-null  float64       \n",
      " 2   Dewpoint Temperature (°C)  12228 non-null  float64       \n",
      " 3   U Wind Component (m/s)     12228 non-null  float64       \n",
      " 4   V Wind Component (m/s)     12228 non-null  float64       \n",
      " 5   Total Precipitation (mm)   12228 non-null  float64       \n",
      " 6   Snowfall (mm)              12228 non-null  float64       \n",
      " 7   Snow Cover (%)             12228 non-null  float64       \n",
      "dtypes: datetime64[ns](1), float64(7)\n",
      "memory usage: 764.4 KB\n"
     ]
    }
   ],
   "source": [
    "df_climate.info()"
   ]
  },
  {
   "cell_type": "markdown",
   "id": "f636003b-4757-44f4-88b7-ddee42268b55",
   "metadata": {},
   "source": [
    "# Data Preprocessing"
   ]
  },
  {
   "cell_type": "code",
   "execution_count": 7,
   "id": "5c5885d4-230f-40a2-8ec3-65c828618342",
   "metadata": {},
   "outputs": [],
   "source": [
    "df.columns = df.columns.str.lower()"
   ]
  },
  {
   "cell_type": "code",
   "execution_count": 8,
   "id": "4b9c6137-c586-42bf-9220-aa602dd66a54",
   "metadata": {},
   "outputs": [],
   "source": [
    "df_climate.columns = df_climate.columns.str.lower().str.replace('(','').str.replace(')','').str.replace(' ','_')"
   ]
  },
  {
   "cell_type": "markdown",
   "id": "997d4119-f12e-4d9b-9bcd-c32d8f40ca0d",
   "metadata": {},
   "source": [
    "## Energy data preprocessing"
   ]
  },
  {
   "cell_type": "code",
   "execution_count": 9,
   "id": "c22e654e-fe25-4571-9201-cc32219cc32e",
   "metadata": {},
   "outputs": [
    {
     "data": {
      "text/plain": [
       "Index(['index', 'date_time', 'v_red', 'current', 'power_factor', 'kwh',\n",
       "       'source', 'v_blue', 'v_yellow', 'consumer_device_9',\n",
       "       'consumer_device_x'],\n",
       "      dtype='object')"
      ]
     },
     "execution_count": 9,
     "metadata": {},
     "output_type": "execute_result"
    }
   ],
   "source": [
    "df.columns"
   ]
  },
  {
   "cell_type": "code",
   "execution_count": 10,
   "id": "a17d83ea-a31a-482f-ae7f-5c66fe2db8b2",
   "metadata": {},
   "outputs": [],
   "source": [
    "df.date_time = pd.to_datetime(df.date_time)"
   ]
  },
  {
   "cell_type": "code",
   "execution_count": 11,
   "id": "bcbfcf52-da10-4b9a-ac75-9004fd7b8491",
   "metadata": {},
   "outputs": [],
   "source": [
    "# phase type classification\n",
    "df['phase_type'] = np.where(\n",
    "    (df['v_blue'].notna() & df['v_blue'] != 0.0) |\n",
    "    (df['v_yellow'].notna() & df['v_yellow'] != 0.0),\n",
    "      'three_phase','single_phase')"
   ]
  },
  {
   "cell_type": "code",
   "execution_count": 12,
   "id": "490875f5-3ac0-4d99-994f-a675928df868",
   "metadata": {},
   "outputs": [
    {
     "name": "stdout",
     "output_type": "stream",
     "text": [
      "<class 'pandas.core.frame.DataFrame'>\n",
      "RangeIndex: 1000000 entries, 0 to 999999\n",
      "Data columns (total 12 columns):\n",
      " #   Column             Non-Null Count    Dtype         \n",
      "---  ------             --------------    -----         \n",
      " 0   index              1000000 non-null  int64         \n",
      " 1   date_time          1000000 non-null  datetime64[ns]\n",
      " 2   v_red              353131 non-null   float64       \n",
      " 3   current            1000000 non-null  float64       \n",
      " 4   power_factor       1000000 non-null  float64       \n",
      " 5   kwh                1000000 non-null  float64       \n",
      " 6   source             1000000 non-null  object        \n",
      " 7   v_blue             313244 non-null   float64       \n",
      " 8   v_yellow           333625 non-null   float64       \n",
      " 9   consumer_device_9  1000000 non-null  int64         \n",
      " 10  consumer_device_x  1000000 non-null  int64         \n",
      " 11  phase_type         1000000 non-null  object        \n",
      "dtypes: datetime64[ns](1), float64(6), int64(3), object(2)\n",
      "memory usage: 91.6+ MB\n"
     ]
    }
   ],
   "source": [
    "df.info()"
   ]
  },
  {
   "cell_type": "code",
   "execution_count": 13,
   "id": "81d8d934-0141-45b3-b12b-0061118ab632",
   "metadata": {
    "scrolled": true
   },
   "outputs": [],
   "source": [
    "#kwh conversion to numeric\n",
    "df['kwh'] = pd.to_numeric(df.kwh,errors='coerce')"
   ]
  },
  {
   "cell_type": "code",
   "execution_count": 14,
   "id": "2089757d-f1af-4dfb-8b21-4ea16e9f6d6e",
   "metadata": {},
   "outputs": [],
   "source": [
    "#Extract user ID from the source column\n",
    "df[['consumer_device_id','user_id']] = df['source'].str.extract(r'consumer_device_(\\d+)_data_user_(\\d+)')"
   ]
  },
  {
   "cell_type": "code",
   "execution_count": null,
   "id": "f8b07e9d-b25b-4d9f-8c54-38f696df489e",
   "metadata": {},
   "outputs": [],
   "source": [
    "#convert ids to numeric\n",
    "df.user_id = pd.to_numeric(df.user_id)\n",
    "df.consumer_device_id = pd.to_numeric(df.consumer_device_id)"
   ]
  },
  {
   "cell_type": "code",
   "execution_count": 32,
   "id": "28f677a7-35a5-4c01-b306-1a1bb30171a7",
   "metadata": {},
   "outputs": [],
   "source": [
    "# del df['consumer_device_9']\n",
    "# del df['consumer_device_x']"
   ]
  },
  {
   "cell_type": "code",
   "execution_count": 16,
   "id": "81762a7b-90b3-496d-b3d7-e465c0e453f4",
   "metadata": {},
   "outputs": [],
   "source": [
    "#normalize power and voltage features\n",
    "\n",
    "df['voltage_avg'] = df.apply(lambda row: np.nanmean([\n",
    "    row['v_red'] if pd.notna(row['v_red']) else 0,\n",
    "    row['v_blue'] if pd.notna(row['v_blue']) else 0,\n",
    "    row['v_yellow'] if pd.notna(row['v_yellow']) else 0,\n",
    "]), axis=1)"
   ]
  },
  {
   "cell_type": "code",
   "execution_count": 17,
   "id": "45570dd9-c58c-4c2c-831c-3167ae8aec47",
   "metadata": {},
   "outputs": [],
   "source": [
    "# calculate apparent power(va)\n",
    "df['apparent_power'] = df['voltage_avg']*df['current']"
   ]
  },
  {
   "cell_type": "code",
   "execution_count": 29,
   "id": "3cb42cc6-b800-4b28-9c1e-fa6456dfbace",
   "metadata": {},
   "outputs": [],
   "source": [
    "# calculation of real power (W) using power factor\n",
    "df['real_power'] = df['apparent_power']*df['power_factor']"
   ]
  },
  {
   "cell_type": "code",
   "execution_count": 39,
   "id": "ff346f9e-1781-4b6f-b406-7fa81c0a009f",
   "metadata": {},
   "outputs": [
    {
     "data": {
      "text/plain": [
       "Index(['index', 'date_time', 'v_red', 'current', 'power_factor', 'kwh',\n",
       "       'source', 'v_blue', 'v_yellow', 'phase_type', 'consumer_device_id',\n",
       "       'user_id', 'voltage_avg', 'apparent_power', 'real_power'],\n",
       "      dtype='object')"
      ]
     },
     "execution_count": 39,
     "metadata": {},
     "output_type": "execute_result"
    }
   ],
   "source": [
    "df.columns"
   ]
  },
  {
   "cell_type": "code",
   "execution_count": 41,
   "id": "b52ecd76-dfd6-45aa-8bc4-8932596c94bc",
   "metadata": {},
   "outputs": [
    {
     "data": {
      "text/html": [
       "<div>\n",
       "<style scoped>\n",
       "    .dataframe tbody tr th:only-of-type {\n",
       "        vertical-align: middle;\n",
       "    }\n",
       "\n",
       "    .dataframe tbody tr th {\n",
       "        vertical-align: top;\n",
       "    }\n",
       "\n",
       "    .dataframe thead th {\n",
       "        text-align: right;\n",
       "    }\n",
       "</style>\n",
       "<table border=\"1\" class=\"dataframe\">\n",
       "  <thead>\n",
       "    <tr style=\"text-align: right;\">\n",
       "      <th></th>\n",
       "      <th></th>\n",
       "      <th>kwh</th>\n",
       "      <th>current</th>\n",
       "      <th>power_factor</th>\n",
       "      <th>voltage_avg</th>\n",
       "      <th>apparent_power</th>\n",
       "      <th>real_power</th>\n",
       "      <th>phase_type</th>\n",
       "      <th>consumer_device_id</th>\n",
       "    </tr>\n",
       "    <tr>\n",
       "      <th>user_id</th>\n",
       "      <th>date_time</th>\n",
       "      <th></th>\n",
       "      <th></th>\n",
       "      <th></th>\n",
       "      <th></th>\n",
       "      <th></th>\n",
       "      <th></th>\n",
       "      <th></th>\n",
       "      <th></th>\n",
       "    </tr>\n",
       "  </thead>\n",
       "  <tbody>\n",
       "    <tr>\n",
       "      <th rowspan=\"5\" valign=\"top\">1</th>\n",
       "      <th>2023-06-03</th>\n",
       "      <td>0.000000</td>\n",
       "      <td>0.000000</td>\n",
       "      <td>0.000000</td>\n",
       "      <td>0.000000</td>\n",
       "      <td>0.000000</td>\n",
       "      <td>0.000000</td>\n",
       "      <td>single_phase</td>\n",
       "      <td>3</td>\n",
       "    </tr>\n",
       "    <tr>\n",
       "      <th>2023-06-04</th>\n",
       "      <td>0.000000</td>\n",
       "      <td>0.000000</td>\n",
       "      <td>0.000000</td>\n",
       "      <td>0.000000</td>\n",
       "      <td>0.000000</td>\n",
       "      <td>0.000000</td>\n",
       "      <td>single_phase</td>\n",
       "      <td>3</td>\n",
       "    </tr>\n",
       "    <tr>\n",
       "      <th>2023-06-05</th>\n",
       "      <td>0.000000</td>\n",
       "      <td>0.000000</td>\n",
       "      <td>0.000000</td>\n",
       "      <td>0.000000</td>\n",
       "      <td>0.000000</td>\n",
       "      <td>0.000000</td>\n",
       "      <td>single_phase</td>\n",
       "      <td>3</td>\n",
       "    </tr>\n",
       "    <tr>\n",
       "      <th>2023-06-06</th>\n",
       "      <td>0.000000</td>\n",
       "      <td>0.000000</td>\n",
       "      <td>0.000000</td>\n",
       "      <td>0.000000</td>\n",
       "      <td>0.000000</td>\n",
       "      <td>0.000000</td>\n",
       "      <td>single_phase</td>\n",
       "      <td>3</td>\n",
       "    </tr>\n",
       "    <tr>\n",
       "      <th>2023-06-07</th>\n",
       "      <td>0.000000</td>\n",
       "      <td>0.000000</td>\n",
       "      <td>0.000000</td>\n",
       "      <td>0.000000</td>\n",
       "      <td>0.000000</td>\n",
       "      <td>0.000000</td>\n",
       "      <td>single_phase</td>\n",
       "      <td>3</td>\n",
       "    </tr>\n",
       "    <tr>\n",
       "      <th>...</th>\n",
       "      <th>...</th>\n",
       "      <td>...</td>\n",
       "      <td>...</td>\n",
       "      <td>...</td>\n",
       "      <td>...</td>\n",
       "      <td>...</td>\n",
       "      <td>...</td>\n",
       "      <td>...</td>\n",
       "      <td>...</td>\n",
       "    </tr>\n",
       "    <tr>\n",
       "      <th rowspan=\"5\" valign=\"top\">21</th>\n",
       "      <th>2024-09-19</th>\n",
       "      <td>0.007189</td>\n",
       "      <td>0.082857</td>\n",
       "      <td>0.755714</td>\n",
       "      <td>65.489048</td>\n",
       "      <td>5.430767</td>\n",
       "      <td>4.107999</td>\n",
       "      <td>three_phase</td>\n",
       "      <td>32</td>\n",
       "    </tr>\n",
       "    <tr>\n",
       "      <th>2024-09-20</th>\n",
       "      <td>0.005540</td>\n",
       "      <td>0.073333</td>\n",
       "      <td>0.621667</td>\n",
       "      <td>56.307222</td>\n",
       "      <td>4.954017</td>\n",
       "      <td>3.693565</td>\n",
       "      <td>three_phase</td>\n",
       "      <td>32</td>\n",
       "    </tr>\n",
       "    <tr>\n",
       "      <th>2024-09-21</th>\n",
       "      <td>0.008974</td>\n",
       "      <td>0.075000</td>\n",
       "      <td>0.677000</td>\n",
       "      <td>57.156667</td>\n",
       "      <td>4.768530</td>\n",
       "      <td>3.589666</td>\n",
       "      <td>three_phase</td>\n",
       "      <td>32</td>\n",
       "    </tr>\n",
       "    <tr>\n",
       "      <th>2024-09-22</th>\n",
       "      <td>0.006324</td>\n",
       "      <td>0.052000</td>\n",
       "      <td>0.447000</td>\n",
       "      <td>39.119667</td>\n",
       "      <td>3.390207</td>\n",
       "      <td>2.529483</td>\n",
       "      <td>three_phase</td>\n",
       "      <td>32</td>\n",
       "    </tr>\n",
       "    <tr>\n",
       "      <th>2024-09-23</th>\n",
       "      <td>0.000996</td>\n",
       "      <td>0.080000</td>\n",
       "      <td>0.760000</td>\n",
       "      <td>65.553333</td>\n",
       "      <td>5.244267</td>\n",
       "      <td>3.985643</td>\n",
       "      <td>three_phase</td>\n",
       "      <td>32</td>\n",
       "    </tr>\n",
       "  </tbody>\n",
       "</table>\n",
       "<p>9488 rows × 8 columns</p>\n",
       "</div>"
      ],
      "text/plain": [
       "                         kwh   current  power_factor  voltage_avg  \\\n",
       "user_id date_time                                                   \n",
       "1       2023-06-03  0.000000  0.000000      0.000000     0.000000   \n",
       "        2023-06-04  0.000000  0.000000      0.000000     0.000000   \n",
       "        2023-06-05  0.000000  0.000000      0.000000     0.000000   \n",
       "        2023-06-06  0.000000  0.000000      0.000000     0.000000   \n",
       "        2023-06-07  0.000000  0.000000      0.000000     0.000000   \n",
       "...                      ...       ...           ...          ...   \n",
       "21      2024-09-19  0.007189  0.082857      0.755714    65.489048   \n",
       "        2024-09-20  0.005540  0.073333      0.621667    56.307222   \n",
       "        2024-09-21  0.008974  0.075000      0.677000    57.156667   \n",
       "        2024-09-22  0.006324  0.052000      0.447000    39.119667   \n",
       "        2024-09-23  0.000996  0.080000      0.760000    65.553333   \n",
       "\n",
       "                    apparent_power  real_power    phase_type  \\\n",
       "user_id date_time                                              \n",
       "1       2023-06-03        0.000000    0.000000  single_phase   \n",
       "        2023-06-04        0.000000    0.000000  single_phase   \n",
       "        2023-06-05        0.000000    0.000000  single_phase   \n",
       "        2023-06-06        0.000000    0.000000  single_phase   \n",
       "        2023-06-07        0.000000    0.000000  single_phase   \n",
       "...                            ...         ...           ...   \n",
       "21      2024-09-19        5.430767    4.107999   three_phase   \n",
       "        2024-09-20        4.954017    3.693565   three_phase   \n",
       "        2024-09-21        4.768530    3.589666   three_phase   \n",
       "        2024-09-22        3.390207    2.529483   three_phase   \n",
       "        2024-09-23        5.244267    3.985643   three_phase   \n",
       "\n",
       "                    consumer_device_id  \n",
       "user_id date_time                       \n",
       "1       2023-06-03                   3  \n",
       "        2023-06-04                   3  \n",
       "        2023-06-05                   3  \n",
       "        2023-06-06                   3  \n",
       "        2023-06-07                   3  \n",
       "...                                ...  \n",
       "21      2024-09-19                  32  \n",
       "        2024-09-20                  32  \n",
       "        2024-09-21                  32  \n",
       "        2024-09-22                  32  \n",
       "        2024-09-23                  32  \n",
       "\n",
       "[9488 rows x 8 columns]"
      ]
     },
     "execution_count": 41,
     "metadata": {},
     "output_type": "execute_result"
    }
   ],
   "source": [
    "# Aggregate to daily consumption per day\n",
    "daily_energy = df.groupby(['user_id',pd.Grouper(key='date_time', freq='D')]).agg({\n",
    "    'kwh':'sum',\n",
    "    'current':'mean',\n",
    "    'power_factor':'mean',\n",
    "    'voltage_avg':'mean',\n",
    "    'apparent_power':'mean',\n",
    "    'real_power':'mean',\n",
    "    'phase_type':'first',\n",
    "    'consumer_device_id':'first',\n",
    "})\n",
    "daily_energy"
   ]
  },
  {
   "cell_type": "markdown",
   "id": "35b81bec-eae0-41a0-a54a-9f732b3bc6f1",
   "metadata": {},
   "source": [
    "## Climate data preprocessing"
   ]
  },
  {
   "cell_type": "code",
   "execution_count": 42,
   "id": "e66b09d4-4eea-49c4-bf8a-eebf336703d9",
   "metadata": {},
   "outputs": [
    {
     "name": "stdout",
     "output_type": "stream",
     "text": [
      "<class 'pandas.core.frame.DataFrame'>\n",
      "RangeIndex: 12228 entries, 0 to 12227\n",
      "Data columns (total 8 columns):\n",
      " #   Column                   Non-Null Count  Dtype         \n",
      "---  ------                   --------------  -----         \n",
      " 0   date_time                12228 non-null  datetime64[ns]\n",
      " 1   temperature_°c           12228 non-null  float64       \n",
      " 2   dewpoint_temperature_°c  12228 non-null  float64       \n",
      " 3   u_wind_component_m/s     12228 non-null  float64       \n",
      " 4   v_wind_component_m/s     12228 non-null  float64       \n",
      " 5   total_precipitation_mm   12228 non-null  float64       \n",
      " 6   snowfall_mm              12228 non-null  float64       \n",
      " 7   snow_cover_%             12228 non-null  float64       \n",
      "dtypes: datetime64[ns](1), float64(7)\n",
      "memory usage: 764.4 KB\n"
     ]
    }
   ],
   "source": [
    "df_climate.info()"
   ]
  },
  {
   "cell_type": "code",
   "execution_count": 44,
   "id": "b90f0716-5398-402d-bea0-b33fa31d2735",
   "metadata": {},
   "outputs": [],
   "source": [
    "#resample to daily_data\n",
    "climate_daily = df_climate.resample('D', on='date_time').agg(\n",
    "    {\n",
    "        'temperature_°c':'mean',\n",
    "        'dewpoint_temperature_°c':'mean',\n",
    "        'u_wind_component_m/s':'mean',\n",
    "        'v_wind_component_m/s': 'mean',\n",
    "        'total_precipitation_mm':'sum',\n",
    "        'snowfall_mm':'sum',\n",
    "        'snow_cover_%':'mean'\n",
    "    }).reset_index()"
   ]
  },
  {
   "cell_type": "code",
   "execution_count": 45,
   "id": "2c224ec0-d6d0-4c57-b887-db3820589649",
   "metadata": {},
   "outputs": [
    {
     "data": {
      "text/html": [
       "<div>\n",
       "<style scoped>\n",
       "    .dataframe tbody tr th:only-of-type {\n",
       "        vertical-align: middle;\n",
       "    }\n",
       "\n",
       "    .dataframe tbody tr th {\n",
       "        vertical-align: top;\n",
       "    }\n",
       "\n",
       "    .dataframe thead th {\n",
       "        text-align: right;\n",
       "    }\n",
       "</style>\n",
       "<table border=\"1\" class=\"dataframe\">\n",
       "  <thead>\n",
       "    <tr style=\"text-align: right;\">\n",
       "      <th></th>\n",
       "      <th>date_time</th>\n",
       "      <th>temperature_°c</th>\n",
       "      <th>dewpoint_temperature_°c</th>\n",
       "      <th>u_wind_component_m/s</th>\n",
       "      <th>v_wind_component_m/s</th>\n",
       "      <th>total_precipitation_mm</th>\n",
       "      <th>snowfall_mm</th>\n",
       "      <th>snow_cover_%</th>\n",
       "    </tr>\n",
       "  </thead>\n",
       "  <tbody>\n",
       "    <tr>\n",
       "      <th>0</th>\n",
       "      <td>2023-06-03</td>\n",
       "      <td>1.860280</td>\n",
       "      <td>-3.348664</td>\n",
       "      <td>0.025054</td>\n",
       "      <td>-0.657726</td>\n",
       "      <td>0.004557</td>\n",
       "      <td>0.000000e+00</td>\n",
       "      <td>99.972656</td>\n",
       "    </tr>\n",
       "    <tr>\n",
       "      <th>1</th>\n",
       "      <td>2023-06-04</td>\n",
       "      <td>3.992740</td>\n",
       "      <td>-1.905203</td>\n",
       "      <td>-0.180909</td>\n",
       "      <td>-0.505298</td>\n",
       "      <td>0.024096</td>\n",
       "      <td>0.000000e+00</td>\n",
       "      <td>99.972656</td>\n",
       "    </tr>\n",
       "    <tr>\n",
       "      <th>2</th>\n",
       "      <td>2023-06-05</td>\n",
       "      <td>4.794523</td>\n",
       "      <td>-3.781657</td>\n",
       "      <td>-0.145114</td>\n",
       "      <td>-0.498183</td>\n",
       "      <td>0.011580</td>\n",
       "      <td>1.166000e-06</td>\n",
       "      <td>99.972656</td>\n",
       "    </tr>\n",
       "    <tr>\n",
       "      <th>3</th>\n",
       "      <td>2023-06-06</td>\n",
       "      <td>6.304390</td>\n",
       "      <td>-4.670615</td>\n",
       "      <td>0.018054</td>\n",
       "      <td>-0.478623</td>\n",
       "      <td>0.008914</td>\n",
       "      <td>5.220000e-08</td>\n",
       "      <td>99.972656</td>\n",
       "    </tr>\n",
       "    <tr>\n",
       "      <th>4</th>\n",
       "      <td>2023-06-07</td>\n",
       "      <td>7.003922</td>\n",
       "      <td>-3.965763</td>\n",
       "      <td>0.083701</td>\n",
       "      <td>-0.516598</td>\n",
       "      <td>0.008649</td>\n",
       "      <td>0.000000e+00</td>\n",
       "      <td>99.972656</td>\n",
       "    </tr>\n",
       "    <tr>\n",
       "      <th>...</th>\n",
       "      <td>...</td>\n",
       "      <td>...</td>\n",
       "      <td>...</td>\n",
       "      <td>...</td>\n",
       "      <td>...</td>\n",
       "      <td>...</td>\n",
       "      <td>...</td>\n",
       "      <td>...</td>\n",
       "    </tr>\n",
       "    <tr>\n",
       "      <th>506</th>\n",
       "      <td>2024-10-21</td>\n",
       "      <td>3.712101</td>\n",
       "      <td>-3.217974</td>\n",
       "      <td>-0.118125</td>\n",
       "      <td>-0.373651</td>\n",
       "      <td>0.008551</td>\n",
       "      <td>0.000000e+00</td>\n",
       "      <td>1.033285</td>\n",
       "    </tr>\n",
       "    <tr>\n",
       "      <th>507</th>\n",
       "      <td>2024-10-22</td>\n",
       "      <td>2.515382</td>\n",
       "      <td>-2.358298</td>\n",
       "      <td>0.047106</td>\n",
       "      <td>-0.214380</td>\n",
       "      <td>0.010362</td>\n",
       "      <td>1.610100e-04</td>\n",
       "      <td>0.531738</td>\n",
       "    </tr>\n",
       "    <tr>\n",
       "      <th>508</th>\n",
       "      <td>2024-10-23</td>\n",
       "      <td>0.315618</td>\n",
       "      <td>-0.711822</td>\n",
       "      <td>0.001728</td>\n",
       "      <td>-0.227600</td>\n",
       "      <td>0.056409</td>\n",
       "      <td>2.708602e-02</td>\n",
       "      <td>6.653727</td>\n",
       "    </tr>\n",
       "    <tr>\n",
       "      <th>509</th>\n",
       "      <td>2024-10-24</td>\n",
       "      <td>-0.349515</td>\n",
       "      <td>-1.964442</td>\n",
       "      <td>0.045428</td>\n",
       "      <td>-0.506269</td>\n",
       "      <td>0.010772</td>\n",
       "      <td>4.633883e-03</td>\n",
       "      <td>9.877035</td>\n",
       "    </tr>\n",
       "    <tr>\n",
       "      <th>510</th>\n",
       "      <td>2024-10-25</td>\n",
       "      <td>-7.224661</td>\n",
       "      <td>-8.735220</td>\n",
       "      <td>-0.076797</td>\n",
       "      <td>-1.251801</td>\n",
       "      <td>0.000399</td>\n",
       "      <td>1.310000e-04</td>\n",
       "      <td>7.875000</td>\n",
       "    </tr>\n",
       "  </tbody>\n",
       "</table>\n",
       "<p>511 rows × 8 columns</p>\n",
       "</div>"
      ],
      "text/plain": [
       "     date_time  temperature_°c  dewpoint_temperature_°c  u_wind_component_m/s  \\\n",
       "0   2023-06-03        1.860280                -3.348664              0.025054   \n",
       "1   2023-06-04        3.992740                -1.905203             -0.180909   \n",
       "2   2023-06-05        4.794523                -3.781657             -0.145114   \n",
       "3   2023-06-06        6.304390                -4.670615              0.018054   \n",
       "4   2023-06-07        7.003922                -3.965763              0.083701   \n",
       "..         ...             ...                      ...                   ...   \n",
       "506 2024-10-21        3.712101                -3.217974             -0.118125   \n",
       "507 2024-10-22        2.515382                -2.358298              0.047106   \n",
       "508 2024-10-23        0.315618                -0.711822              0.001728   \n",
       "509 2024-10-24       -0.349515                -1.964442              0.045428   \n",
       "510 2024-10-25       -7.224661                -8.735220             -0.076797   \n",
       "\n",
       "     v_wind_component_m/s  total_precipitation_mm   snowfall_mm  snow_cover_%  \n",
       "0               -0.657726                0.004557  0.000000e+00     99.972656  \n",
       "1               -0.505298                0.024096  0.000000e+00     99.972656  \n",
       "2               -0.498183                0.011580  1.166000e-06     99.972656  \n",
       "3               -0.478623                0.008914  5.220000e-08     99.972656  \n",
       "4               -0.516598                0.008649  0.000000e+00     99.972656  \n",
       "..                    ...                     ...           ...           ...  \n",
       "506             -0.373651                0.008551  0.000000e+00      1.033285  \n",
       "507             -0.214380                0.010362  1.610100e-04      0.531738  \n",
       "508             -0.227600                0.056409  2.708602e-02      6.653727  \n",
       "509             -0.506269                0.010772  4.633883e-03      9.877035  \n",
       "510             -1.251801                0.000399  1.310000e-04      7.875000  \n",
       "\n",
       "[511 rows x 8 columns]"
      ]
     },
     "execution_count": 45,
     "metadata": {},
     "output_type": "execute_result"
    }
   ],
   "source": [
    "climate_daily"
   ]
  },
  {
   "attachments": {
    "39dcb930-967c-4a1b-bdf9-23734b4f9b03.png": {
     "image/png": "[encoded data removed]"
    }
   },
   "cell_type": "markdown",
   "id": "fb17a887-84a1-49c1-bc3e-e8d9b3278f69",
   "metadata": {},
   "source": [
    "#### Humidity index\n",
    "The humidex (short for humidity index) is an index number used by Canadian meteorologists to describe how hot the weather feels to the average person, by combining the effect of heat and humidity. \n",
    "\n",
    "![image.png](attachment:39dcb930-967c-4a1b-bdf9-23734b4f9b03.png)"
   ]
  },
  {
   "cell_type": "code",
   "execution_count": 46,
   "id": "d783fa26-e83b-4413-9200-adedfa4015bf",
   "metadata": {},
   "outputs": [],
   "source": [
    "# Humid index calculas\n",
    "e = 6.11*np.exp(5417.7530*((1/273.15) - (1/climate_daily['dewpoint_temperature_°c']+273.15)))\n",
    "h = (0.5555)*(e-10.0)\n",
    "\n",
    "climate_daily['humidex'] = climate_daily['temperature_°c'] + h"
   ]
  },
  {
   "cell_type": "code",
   "execution_count": 48,
   "id": "8c353b41-cc64-41f5-aa24-ce80cb8e616c",
   "metadata": {},
   "outputs": [
    {
     "data": {
      "text/html": [
       "<div>\n",
       "<style scoped>\n",
       "    .dataframe tbody tr th:only-of-type {\n",
       "        vertical-align: middle;\n",
       "    }\n",
       "\n",
       "    .dataframe tbody tr th {\n",
       "        vertical-align: top;\n",
       "    }\n",
       "\n",
       "    .dataframe thead th {\n",
       "        text-align: right;\n",
       "    }\n",
       "</style>\n",
       "<table border=\"1\" class=\"dataframe\">\n",
       "  <thead>\n",
       "    <tr style=\"text-align: right;\">\n",
       "      <th></th>\n",
       "      <th>date_time</th>\n",
       "      <th>temperature_°c</th>\n",
       "      <th>dewpoint_temperature_°c</th>\n",
       "      <th>u_wind_component_m/s</th>\n",
       "      <th>v_wind_component_m/s</th>\n",
       "      <th>total_precipitation_mm</th>\n",
       "      <th>snowfall_mm</th>\n",
       "      <th>snow_cover_%</th>\n",
       "      <th>humidex</th>\n",
       "    </tr>\n",
       "  </thead>\n",
       "  <tbody>\n",
       "    <tr>\n",
       "      <th>0</th>\n",
       "      <td>2023-06-03</td>\n",
       "      <td>1.860280</td>\n",
       "      <td>-3.348664</td>\n",
       "      <td>0.025054</td>\n",
       "      <td>-0.657726</td>\n",
       "      <td>0.004557</td>\n",
       "      <td>0.000000e+00</td>\n",
       "      <td>99.972656</td>\n",
       "      <td>-3.694720</td>\n",
       "    </tr>\n",
       "    <tr>\n",
       "      <th>1</th>\n",
       "      <td>2023-06-04</td>\n",
       "      <td>3.992740</td>\n",
       "      <td>-1.905203</td>\n",
       "      <td>-0.180909</td>\n",
       "      <td>-0.505298</td>\n",
       "      <td>0.024096</td>\n",
       "      <td>0.000000e+00</td>\n",
       "      <td>99.972656</td>\n",
       "      <td>-1.562260</td>\n",
       "    </tr>\n",
       "    <tr>\n",
       "      <th>2</th>\n",
       "      <td>2023-06-05</td>\n",
       "      <td>4.794523</td>\n",
       "      <td>-3.781657</td>\n",
       "      <td>-0.145114</td>\n",
       "      <td>-0.498183</td>\n",
       "      <td>0.011580</td>\n",
       "      <td>1.166000e-06</td>\n",
       "      <td>99.972656</td>\n",
       "      <td>-0.760477</td>\n",
       "    </tr>\n",
       "    <tr>\n",
       "      <th>3</th>\n",
       "      <td>2023-06-06</td>\n",
       "      <td>6.304390</td>\n",
       "      <td>-4.670615</td>\n",
       "      <td>0.018054</td>\n",
       "      <td>-0.478623</td>\n",
       "      <td>0.008914</td>\n",
       "      <td>5.220000e-08</td>\n",
       "      <td>99.972656</td>\n",
       "      <td>0.749390</td>\n",
       "    </tr>\n",
       "    <tr>\n",
       "      <th>4</th>\n",
       "      <td>2023-06-07</td>\n",
       "      <td>7.003922</td>\n",
       "      <td>-3.965763</td>\n",
       "      <td>0.083701</td>\n",
       "      <td>-0.516598</td>\n",
       "      <td>0.008649</td>\n",
       "      <td>0.000000e+00</td>\n",
       "      <td>99.972656</td>\n",
       "      <td>1.448922</td>\n",
       "    </tr>\n",
       "  </tbody>\n",
       "</table>\n",
       "</div>"
      ],
      "text/plain": [
       "   date_time  temperature_°c  dewpoint_temperature_°c  u_wind_component_m/s  \\\n",
       "0 2023-06-03        1.860280                -3.348664              0.025054   \n",
       "1 2023-06-04        3.992740                -1.905203             -0.180909   \n",
       "2 2023-06-05        4.794523                -3.781657             -0.145114   \n",
       "3 2023-06-06        6.304390                -4.670615              0.018054   \n",
       "4 2023-06-07        7.003922                -3.965763              0.083701   \n",
       "\n",
       "   v_wind_component_m/s  total_precipitation_mm   snowfall_mm  snow_cover_%  \\\n",
       "0             -0.657726                0.004557  0.000000e+00     99.972656   \n",
       "1             -0.505298                0.024096  0.000000e+00     99.972656   \n",
       "2             -0.498183                0.011580  1.166000e-06     99.972656   \n",
       "3             -0.478623                0.008914  5.220000e-08     99.972656   \n",
       "4             -0.516598                0.008649  0.000000e+00     99.972656   \n",
       "\n",
       "    humidex  \n",
       "0 -3.694720  \n",
       "1 -1.562260  \n",
       "2 -0.760477  \n",
       "3  0.749390  \n",
       "4  1.448922  "
      ]
     },
     "execution_count": 48,
     "metadata": {},
     "output_type": "execute_result"
    }
   ],
   "source": [
    "climate_daily.head()"
   ]
  },
  {
   "cell_type": "code",
   "execution_count": null,
   "id": "b82632f3-669e-486e-be48-430f2756ff67",
   "metadata": {},
   "outputs": [],
   "source": [
    "# heating degrees days (HDD) and coolong degree days (CDD)\n",
    "base_temp = 18.0\n",
    "climate_daily['HDD'] = np.maximum(0,base_temp - climate_daily['temperature_°c'])\n",
    "climate_daily['CDD'] = np.maximum(0,climate_daily['temperature_°c'] - base_temp)"
   ]
  },
  {
   "cell_type": "code",
   "execution_count": 23,
   "id": "f3e30d12-9abb-4533-8bb5-bc3237208ecb",
   "metadata": {},
   "outputs": [],
   "source": [
    "# windspeed calculation\n",
    "climate_daily['wind_speed'] = np.sqrt(\n",
    "    climate_daily['u_wind_component_m/s']**2+climate_daily['v_wind_component_m/s']**2\n",
    ")"
   ]
  },
  {
   "cell_type": "code",
   "execution_count": 25,
   "id": "3417553a-e1eb-4a81-8459-94b1ac29ae9f",
   "metadata": {},
   "outputs": [],
   "source": [
    "# Merge datasets\n",
    "merged_df = pd.merge(\n",
    "    daily_energy,\n",
    "    climate_daily,\n",
    "    on='date_time',\n",
    "    how='left'\n",
    ") "
   ]
  },
  {
   "cell_type": "code",
   "execution_count": 26,
   "id": "541ae9b3-c694-4653-aa4e-88fa2462f3b3",
   "metadata": {},
   "outputs": [],
   "source": [
    "merged_df = merged_df.fillna({\n",
    "    'temperature_°c': merged_df['temperature_°c'].mean(),\n",
    "    'dewpoint_temperature_°c': merged_df['dewpoint_temperature_°c'].mean(),\n",
    "    'wind_speed': merged_df['wind_speed'].mean() if 'wind_speed' in merged_df.columns else 0.0,\n",
    "    'total_precipitation_mm':0.0,\n",
    "    'snowfall_mm':0.0\n",
    "})"
   ]
  },
  {
   "cell_type": "code",
   "execution_count": 27,
   "id": "1108061c-11cb-4c72-8de7-3238c6ba2aae",
   "metadata": {},
   "outputs": [
    {
     "data": {
      "text/html": [
       "<div>\n",
       "<style scoped>\n",
       "    .dataframe tbody tr th:only-of-type {\n",
       "        vertical-align: middle;\n",
       "    }\n",
       "\n",
       "    .dataframe tbody tr th {\n",
       "        vertical-align: top;\n",
       "    }\n",
       "\n",
       "    .dataframe thead th {\n",
       "        text-align: right;\n",
       "    }\n",
       "</style>\n",
       "<table border=\"1\" class=\"dataframe\">\n",
       "  <thead>\n",
       "    <tr style=\"text-align: right;\">\n",
       "      <th></th>\n",
       "      <th>user_id</th>\n",
       "      <th>date_time</th>\n",
       "      <th>kwh</th>\n",
       "      <th>temperature_°c</th>\n",
       "      <th>dewpoint_temperature_°c</th>\n",
       "      <th>u_wind_component_m/s</th>\n",
       "      <th>v_wind_component_m/s</th>\n",
       "      <th>total_precipitation_mm</th>\n",
       "      <th>snowfall_mm</th>\n",
       "      <th>wind_speed</th>\n",
       "    </tr>\n",
       "  </thead>\n",
       "  <tbody>\n",
       "    <tr>\n",
       "      <th>0</th>\n",
       "      <td>1</td>\n",
       "      <td>2023-06-03</td>\n",
       "      <td>0.0</td>\n",
       "      <td>1.860280</td>\n",
       "      <td>-3.348664</td>\n",
       "      <td>0.025054</td>\n",
       "      <td>-0.657726</td>\n",
       "      <td>0.004557</td>\n",
       "      <td>0.000000e+00</td>\n",
       "      <td>0.658203</td>\n",
       "    </tr>\n",
       "    <tr>\n",
       "      <th>1</th>\n",
       "      <td>1</td>\n",
       "      <td>2023-06-04</td>\n",
       "      <td>0.0</td>\n",
       "      <td>3.992740</td>\n",
       "      <td>-1.905203</td>\n",
       "      <td>-0.180909</td>\n",
       "      <td>-0.505298</td>\n",
       "      <td>0.024096</td>\n",
       "      <td>0.000000e+00</td>\n",
       "      <td>0.536706</td>\n",
       "    </tr>\n",
       "    <tr>\n",
       "      <th>2</th>\n",
       "      <td>1</td>\n",
       "      <td>2023-06-05</td>\n",
       "      <td>0.0</td>\n",
       "      <td>4.794523</td>\n",
       "      <td>-3.781657</td>\n",
       "      <td>-0.145114</td>\n",
       "      <td>-0.498183</td>\n",
       "      <td>0.011580</td>\n",
       "      <td>1.166000e-06</td>\n",
       "      <td>0.518888</td>\n",
       "    </tr>\n",
       "    <tr>\n",
       "      <th>3</th>\n",
       "      <td>1</td>\n",
       "      <td>2023-06-06</td>\n",
       "      <td>0.0</td>\n",
       "      <td>6.304390</td>\n",
       "      <td>-4.670615</td>\n",
       "      <td>0.018054</td>\n",
       "      <td>-0.478623</td>\n",
       "      <td>0.008914</td>\n",
       "      <td>5.220000e-08</td>\n",
       "      <td>0.478963</td>\n",
       "    </tr>\n",
       "    <tr>\n",
       "      <th>4</th>\n",
       "      <td>1</td>\n",
       "      <td>2023-06-07</td>\n",
       "      <td>0.0</td>\n",
       "      <td>7.003922</td>\n",
       "      <td>-3.965763</td>\n",
       "      <td>0.083701</td>\n",
       "      <td>-0.516598</td>\n",
       "      <td>0.008649</td>\n",
       "      <td>0.000000e+00</td>\n",
       "      <td>0.523335</td>\n",
       "    </tr>\n",
       "  </tbody>\n",
       "</table>\n",
       "</div>"
      ],
      "text/plain": [
       "  user_id  date_time  kwh  temperature_°c  dewpoint_temperature_°c  \\\n",
       "0       1 2023-06-03  0.0        1.860280                -3.348664   \n",
       "1       1 2023-06-04  0.0        3.992740                -1.905203   \n",
       "2       1 2023-06-05  0.0        4.794523                -3.781657   \n",
       "3       1 2023-06-06  0.0        6.304390                -4.670615   \n",
       "4       1 2023-06-07  0.0        7.003922                -3.965763   \n",
       "\n",
       "   u_wind_component_m/s  v_wind_component_m/s  total_precipitation_mm  \\\n",
       "0              0.025054             -0.657726                0.004557   \n",
       "1             -0.180909             -0.505298                0.024096   \n",
       "2             -0.145114             -0.498183                0.011580   \n",
       "3              0.018054             -0.478623                0.008914   \n",
       "4              0.083701             -0.516598                0.008649   \n",
       "\n",
       "    snowfall_mm  wind_speed  \n",
       "0  0.000000e+00    0.658203  \n",
       "1  0.000000e+00    0.536706  \n",
       "2  1.166000e-06    0.518888  \n",
       "3  5.220000e-08    0.478963  \n",
       "4  0.000000e+00    0.523335  "
      ]
     },
     "execution_count": 27,
     "metadata": {},
     "output_type": "execute_result"
    }
   ],
   "source": [
    "merged_df.head()"
   ]
  },
  {
   "cell_type": "markdown",
   "id": "9e87c499-0f86-453a-a17b-400154ad9054",
   "metadata": {},
   "source": [
    "# Feature Engineering"
   ]
  },
  {
   "cell_type": "code",
   "execution_count": 28,
   "id": "0323002c-15f2-4ab7-bf8b-c313f5b83342",
   "metadata": {},
   "outputs": [
    {
     "ename": "AttributeError",
     "evalue": "'DataFrame' object has no attribute 'data_user'",
     "output_type": "error",
     "traceback": [
      "\u001b[31m---------------------------------------------------------------------------\u001b[39m",
      "\u001b[31mAttributeError\u001b[39m                            Traceback (most recent call last)",
      "\u001b[32m/tmp/ipykernel_12955/2479876023.py\u001b[39m in \u001b[36m?\u001b[39m\u001b[34m()\u001b[39m\n\u001b[32m     12\u001b[39m         df.loc[user_mask, \u001b[33m'kwh_lag7'\u001b[39m] = df.loc[user_mask,\u001b[33m'kwh'\u001b[39m].shift(\u001b[32m7\u001b[39m).fillna(\u001b[32m0\u001b[39m)\n\u001b[32m     13\u001b[39m         rolling = df.loc[user_mask,\u001b[33m'kwh'\u001b[39m].rolling(\u001b[32m7\u001b[39m,min_periods=\u001b[32m1\u001b[39m).mean()\n\u001b[32m     14\u001b[39m         df.loc[user_mask,\u001b[33m'kwh_rolling7'\u001b[39m] = rolling\n\u001b[32m     15\u001b[39m     \u001b[38;5;28;01mreturn\u001b[39;00m df\n\u001b[32m---> \u001b[39m\u001b[32m16\u001b[39m processed_df = define_features(merged_df)\n",
      "\u001b[32m/tmp/ipykernel_12955/2479876023.py\u001b[39m in \u001b[36m?\u001b[39m\u001b[34m(df)\u001b[39m\n\u001b[32m      6\u001b[39m     df[\u001b[33m'is_weekend'\u001b[39m] = df[\u001b[33m'day_of_week'\u001b[39m].isin([\u001b[32m5\u001b[39m,\u001b[32m6\u001b[39m]).astype(int)\n\u001b[32m      7\u001b[39m     df[\u001b[33m'season'\u001b[39m] = (df[\u001b[33m'date_time'\u001b[39m].dt.month % \u001b[32m12\u001b[39m +\u001b[32m3\u001b[39m)//\u001b[32m3\u001b[39m\n\u001b[32m      8\u001b[39m \n\u001b[32m      9\u001b[39m     \u001b[38;5;66;03m# Lag features - Using fillna to avoid dropping data\u001b[39;00m\n\u001b[32m---> \u001b[39m\u001b[32m10\u001b[39m     \u001b[38;5;28;01mfor\u001b[39;00m data_user \u001b[38;5;28;01min\u001b[39;00m df.data_user.unique():\n\u001b[32m     11\u001b[39m         user_mask = df.data_user == data_user\n\u001b[32m     12\u001b[39m         df.loc[user_mask, \u001b[33m'kwh_lag7'\u001b[39m] = df.loc[user_mask,\u001b[33m'kwh'\u001b[39m].shift(\u001b[32m7\u001b[39m).fillna(\u001b[32m0\u001b[39m)\n\u001b[32m     13\u001b[39m         rolling = df.loc[user_mask,\u001b[33m'kwh'\u001b[39m].rolling(\u001b[32m7\u001b[39m,min_periods=\u001b[32m1\u001b[39m).mean()\n",
      "\u001b[32m~/.local/lib/python3.12/site-packages/pandas/core/generic.py\u001b[39m in \u001b[36m?\u001b[39m\u001b[34m(self, name)\u001b[39m\n\u001b[32m   6295\u001b[39m             \u001b[38;5;28;01mand\u001b[39;00m name \u001b[38;5;28;01mnot\u001b[39;00m \u001b[38;5;28;01min\u001b[39;00m self._accessors\n\u001b[32m   6296\u001b[39m             \u001b[38;5;28;01mand\u001b[39;00m self._info_axis._can_hold_identifiers_and_holds_name(name)\n\u001b[32m   6297\u001b[39m         ):\n\u001b[32m   6298\u001b[39m             \u001b[38;5;28;01mreturn\u001b[39;00m self[name]\n\u001b[32m-> \u001b[39m\u001b[32m6299\u001b[39m         \u001b[38;5;28;01mreturn\u001b[39;00m object.__getattribute__(self, name)\n",
      "\u001b[31mAttributeError\u001b[39m: 'DataFrame' object has no attribute 'data_user'"
     ]
    }
   ],
   "source": [
    "def define_features(df):\n",
    "    df = df.copy()\n",
    "    df['day_of_week'] = df['date_time'].dt.dayofweek\n",
    "    df['day_of_month'] = df['date_time'].dt.day\n",
    "    df['month'] = df['date_time'].dt.month\n",
    "    df['is_weekend'] = df['day_of_week'].isin([5,6]).astype(int)\n",
    "    df['season'] = (df['date_time'].dt.month % 12 +3)//3\n",
    "\n",
    "    # Lag features - Using fillna to avoid dropping data\n",
    "    for data_user in df.data_user.unique():\n",
    "        user_mask = df.data_user == data_user\n",
    "        df.loc[user_mask, 'kwh_lag7'] = df.loc[user_mask,'kwh'].shift(7).fillna(0)\n",
    "        rolling = df.loc[user_mask,'kwh'].rolling(7,min_periods=1).mean()\n",
    "        df.loc[user_mask,'kwh_rolling7'] = rolling\n",
    "    return df\n",
    "processed_df = define_features(merged_df)"
   ]
  },
  {
   "cell_type": "code",
   "execution_count": null,
   "id": "5630cd7c-a797-4609-aeb3-b7fa664200f9",
   "metadata": {},
   "outputs": [],
   "source": [
    "# FInd users with sufficient data\n",
    "user_counts = processed_df.groupby('data_user').size()\n",
    "user_counts"
   ]
  },
  {
   "cell_type": "code",
   "execution_count": null,
   "id": "e79570a8-3181-4dd5-a8c3-b8654fbcef31",
   "metadata": {},
   "outputs": [],
   "source": [
    "valid_users = user_counts[user_counts >= 10].index.to_list()\n",
    "valid_users"
   ]
  },
  {
   "cell_type": "code",
   "execution_count": null,
   "id": "25ad9051-c6ff-4483-8bf8-35a6aa34f876",
   "metadata": {},
   "outputs": [],
   "source": [
    "forecusting_df = processed_df[processed_df['data_user'].isin(valid_users)]\n",
    "forecusting_df"
   ]
  },
  {
   "cell_type": "markdown",
   "id": "de4dc3ae-d17b-4d10-9dd1-a1b83bb82e5b",
   "metadata": {},
   "source": [
    "# Training and Validation sets"
   ]
  },
  {
   "cell_type": "code",
   "execution_count": null,
   "id": "79634d4b-b0a5-465d-bf21-168c47cd6356",
   "metadata": {},
   "outputs": [],
   "source": [
    "df_full_train,df_test = train_test_split(processed_df,test_size=0.2,random_state=1,shuffle=True)\n",
    "df_train,df_val = train_test_split(df_full_train,test_size=0.25,random_state=1,shuffle=True)"
   ]
  },
  {
   "cell_type": "code",
   "execution_count": null,
   "id": "eb4f0046-ee39-47de-b91b-b67e041a1027",
   "metadata": {},
   "outputs": [],
   "source": [
    "df_full_train.shape,df_train.shape, df_val.shape,df_test.shape"
   ]
  },
  {
   "cell_type": "markdown",
   "id": "70378d6a-5525-41e1-a812-e6713a84b9a4",
   "metadata": {},
   "source": [
    "## Prophet Model Implementation"
   ]
  },
  {
   "cell_type": "code",
   "execution_count": null,
   "id": "8b9d602f-0bd8-42e0-b94d-4d696a2199af",
   "metadata": {},
   "outputs": [],
   "source": [
    "def prophet_forecast(user_df,periods=30):\n",
    "    return"
   ]
  },
  {
   "cell_type": "code",
   "execution_count": null,
   "id": "f7b6adef-e166-44ea-aeed-70b89b1ead2b",
   "metadata": {},
   "outputs": [],
   "source": [
    "## Not enough data for  prophet\n",
    "\n",
    "last_date = forecusting_df.date_time.max()\n",
    "mean_kwh = forecusting_df.kwh.mean() if len(forecusting_df) > 0 else 0\n",
    "future_dates = pd.date_range(start=last_date+pd.Timedelta(days=1),periods=30)\n",
    "\n",
    "small_data_forecast = pd.DataFrame({\n",
    "        'ds':future_dates,\n",
    "        'yhat':[mean_kwh]*30 # [mean_kwh]*periods\n",
    "    })"
   ]
  },
  {
   "cell_type": "code",
   "execution_count": null,
   "id": "eec1c990-e57f-4868-991f-396df56c4a24",
   "metadata": {},
   "outputs": [],
   "source": [
    "model = Prophet(\n",
    "    yearly_seasonality=True,\n",
    "    weekly_seasonality=True,\n",
    "    daily_seasonality=False,\n",
    "    seasonality_mode='multiplicative', # Energy has multiplicative seasonality\n",
    "    interval_width=0.5\n",
    ")"
   ]
  },
  {
   "cell_type": "code",
   "execution_count": null,
   "id": "1c81f817-2422-418c-99d4-3d5354aa6e8b",
   "metadata": {},
   "outputs": [],
   "source": [
    "forecusting_df.columns"
   ]
  },
  {
   "cell_type": "code",
   "execution_count": null,
   "id": "8d798616-b810-480c-9d30-b05022da3a60",
   "metadata": {},
   "outputs": [],
   "source": [
    "# Add regressors if available\n",
    "for feature in ['temperature_°c','wind_speed']:\n",
    "    if feature in forecusting_df.columns and not forecusting_df[feature].isna().all():\n",
    "        model.add_regressor(feature)"
   ]
  },
  {
   "cell_type": "code",
   "execution_count": null,
   "id": "8874941e-3ab3-4db7-bd7e-eba68c4512f8",
   "metadata": {},
   "outputs": [],
   "source": [
    "# df preparation for prophet\n",
    "prophet_df = forecusting_df.rename(\n",
    "                columns={'date_time':'ds','kwh':'y'})[['ds','y'] + [col for col in  ['temperature_°c','wind_speed'] \n",
    "                if col in forecusting_df.columns and not forecusting_df[col].isna().all()]]"
   ]
  },
  {
   "cell_type": "code",
   "execution_count": null,
   "id": "cee1f083-c881-4ac7-8ebe-b06d47556ebd",
   "metadata": {},
   "outputs": [],
   "source": [
    "prophet_df"
   ]
  },
  {
   "cell_type": "code",
   "execution_count": null,
   "id": "914255fb-d67e-4138-9b18-da55faded56b",
   "metadata": {},
   "outputs": [],
   "source": [
    "#handle zero values in y\n",
    "prophet_df.y = prophet_df['y'].replace(0,1e-6)\n",
    "\n",
    "#fit model\n",
    "model.fit(prophet_df)"
   ]
  },
  {
   "cell_type": "code",
   "execution_count": null,
   "id": "d343f77d-898b-4848-8eb7-575b87380fdc",
   "metadata": {
    "scrolled": true
   },
   "outputs": [],
   "source": [
    "# create future df\n",
    "future = model.make_future_dataframe(periods=30)"
   ]
  },
  {
   "cell_type": "code",
   "execution_count": null,
   "id": "585e4064-ba3e-4dab-983a-b0ede1cd4559",
   "metadata": {},
   "outputs": [],
   "source": [
    "# regressor values to future dataframe\n",
    "for feature in ['temperature_°c','wind_speed']:\n",
    "    if feature in forecusting_df.columns and feature in prophet_df.columns:\n",
    "        future[feature] = prophet_df[feature].mean()"
   ]
  },
  {
   "cell_type": "code",
   "execution_count": null,
   "id": "803d4c36-b394-43e6-851c-19a500578425",
   "metadata": {},
   "outputs": [],
   "source": [
    "# forecast\n",
    "forecast = model.predict(future)\n",
    "forecast[['ds','yhat']]"
   ]
  },
  {
   "cell_type": "code",
   "execution_count": null,
   "id": "7ff04307-816c-4060-99ad-5c2ac5c0fcd8",
   "metadata": {},
   "outputs": [],
   "source": []
  },
  {
   "cell_type": "code",
   "execution_count": null,
   "id": "20ac9cad-f117-4048-b13f-3ec33e632fac",
   "metadata": {},
   "outputs": [],
   "source": []
  },
  {
   "cell_type": "code",
   "execution_count": null,
   "id": "fcc0973a-ab40-4386-a6d6-9a0d5329b789",
   "metadata": {},
   "outputs": [],
   "source": []
  },
  {
   "cell_type": "code",
   "execution_count": null,
   "id": "c573a477-066c-4ab4-bc21-579b1e9777a1",
   "metadata": {},
   "outputs": [],
   "source": []
  }
 ],
 "metadata": {
  "kernelspec": {
   "display_name": "Python 3 (ipykernel)",
   "language": "python",
   "name": "python3"
  },
  "language_info": {
   "codemirror_mode": {
    "name": "ipython",
    "version": 3
   },
   "file_extension": ".py",
   "mimetype": "text/x-python",
   "name": "python",
   "nbconvert_exporter": "python",
   "pygments_lexer": "ipython3",
   "version": "3.12.3"
  }
 },
 "nbformat": 4,
 "nbformat_minor": 5
}
